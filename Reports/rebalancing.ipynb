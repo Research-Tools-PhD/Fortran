{
 "cells": [
  {
   "attachments": {},
   "cell_type": "markdown",
   "metadata": {},
   "source": [
    "## Rebalancing Tree"
   ]
  },
  {
   "attachments": {},
   "cell_type": "markdown",
   "metadata": {},
   "source": [
    "For ../data/d3_1.dat, which has 1000 nodes and a depth of 1000, the program was able to rebalance the tree in a very short time of 0.000140 ms. After rebalancing, the depth of the tree was reduced to 10, which greatly improved the performance of the binary search operations, reducing the time it took to perform 5000 lookups from 2.538141 ms to 0.390513 ms.\n",
    "\n",
    "For ../data/d3_2.dat, which has 200 nodes and a depth of 200, the program was able to rebalance the tree in a similarly short time of 0.000055 ms. After rebalancing, the depth of the tree was reduced to 8, and the time it took to perform 5000 lookups was reduced from 0.520248 ms to 0.244970 ms.\n",
    "\n",
    "For ../data/d3_3.dat, which has 500 nodes and a depth of 426, the program was able to rebalance the tree in a slightly longer time of 0.000124 ms. After rebalancing, the depth of the tree was reduced to 9, and the time it took to perform 5000 lookups was reduced from 1.223564 ms to 0.349411 ms."
   ]
  },
  {
   "attachments": {},
   "cell_type": "markdown",
   "metadata": {},
   "source": [
    "For ../data/d3_4.dat, the program initially reports that the tree has 1000 nodes with a depth of 1000 and 999 nodes with only one leaf. It then performs 5000 lookups on the binary search tree, which takes 2.367324 ms, and reports the checksum of the dataset.\n",
    "\n",
    "Next, the program rebalances the tree, which takes only 0.000139 ms. After rebalancing, the tree's depth is reduced to 10, and the number of nodes with only one leaf is reduced to 23. The program performs another 5000 lookups on the rebalanced tree, which now takes only 0.340277 ms, and reports the checksum of the dataset again. The program also confirms that the checksum is correct.\n",
    "\n",
    "Finally, the program displays performance counter statistics for the execution of the program. It shows that the program took a total of 2.721414108 seconds to execute, during which time the CPU was utilized 99.9% of the time. It also shows information about the number of cycles, instructions, branches, and branch-misses."
   ]
  },
  {
   "attachments": {},
   "cell_type": "markdown",
   "metadata": {},
   "source": [
    "Performance file is in the Reports/perf_tree.txt"
   ]
  }
 ],
 "metadata": {
  "language_info": {
   "name": "python"
  },
  "orig_nbformat": 4
 },
 "nbformat": 4,
 "nbformat_minor": 2
}
