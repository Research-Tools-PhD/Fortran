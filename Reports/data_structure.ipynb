{
 "cells": [
  {
   "attachments": {},
   "cell_type": "markdown",
   "metadata": {},
   "source": [
    "## Data Structures"
   ]
  },
  {
   "attachments": {},
   "cell_type": "markdown",
   "metadata": {},
   "source": [
    "Data structures that were implemented in Fortran are:\n",
    "\n",
    ">Linked List\n",
    "\n",
    ">Hash Table\n",
    "\n",
    ">Stack with Array\n",
    "\n",
    ">Stack with Linked List"
   ]
  },
  {
   "attachments": {},
   "cell_type": "markdown",
   "metadata": {},
   "source": [
    "Perf was performed for all of them."
   ]
  },
  {
   "attachments": {},
   "cell_type": "markdown",
   "metadata": {},
   "source": [
    "### Linked List vs. Hash Table"
   ]
  },
  {
   "attachments": {},
   "cell_type": "markdown",
   "metadata": {},
   "source": [
    "Based on the performance statistics, the hash table implementation appears to outperform the linked list implementation.\n",
    "\n",
    "For the same number of array value lookups (5000), <span style=\"color: purple\">the hash table implementation takes only 0.076198 ms</span> compared to the <span style=\"color: orange\">linked list implementation, which takes 3.264499 ms</span>. This suggests that the hash table implementation is significantly faster at searching for values in the data provided.\n",
    "\n",
    "Looking at the performance counter stats, we can see that the hash table implementation utilized the CPU slightly more efficiently than the linked list implementation, with a slightly higher instructions per cycle rate (4.23 vs 1.75) and a higher rate of branches per second (5.497 G/sec vs 2.058 G/sec). The hash table implementation also had fewer branch misses as a percentage of all branches (0.22% vs 0.10%).\n",
    "\n",
    "Based on the provided performance data, the hash table implementation is faster than both the array and linked list implementations in terms of task-clock time, cycles executed, and branch misprediction rate. The hash table implementation took the least amount of time for both the array value and hash table lookups, with the array implementation coming in second, and the linked list implementation taking the longest. \n",
    "\n",
    "Overall, the hash table implementation appears to be the most efficient of the three for performing lookups on the provided dataset.\n",
    "\n"
   ]
  },
  {
   "attachments": {},
   "cell_type": "markdown",
   "metadata": {},
   "source": [
    "### Stack with Array vs. Stack with Linked List"
   ]
  },
  {
   "attachments": {},
   "cell_type": "markdown",
   "metadata": {},
   "source": [
    "From the output of Stack with Array,we can see that the 19_stack program took 2.94 milliseconds of task-clock time to run and utilized 0.622 CPUs. It also incurred 96 page faults and executed 586,747 cycles and 368,526 instructions. The program performed 79,419 branches and had a branch misprediction rate of 7.71%.\n",
    "Whereas, from the output of Stack with Linked List, we can see that the 20_stack_list program took 1.35 milliseconds of task-clock time to run and utilized 0.641 CPUs. It also incurred 97 page faults and executed 655,542 cycles and 367,766 instructions. The program performed 79,510 branches and had a branch misprediction rate of 2.61%.\n"
   ]
  },
  {
   "attachments": {},
   "cell_type": "markdown",
   "metadata": {},
   "source": [
    "Comparing the performance of the two programs, we can see that the 20_stack_list program (which uses a linked list) is faster than the 19_stack program (which uses an array) in terms of task-clock time, cycles executed, and branch misprediction rate."
   ]
  },
  {
   "attachments": {},
   "cell_type": "markdown",
   "metadata": {},
   "source": [
    "This result is not surprising since a linked list has a dynamic size and can easily expand and contract, whereas an array has a fixed size and requires costly reallocation when it needs to be resized. The dynamic nature of a linked list can result in better cache utilization and fewer branch mispredictions since the program can avoid the performance hit of cache misses and branch mispredictions that occur when processing arrays."
   ]
  },
  {
   "attachments": {},
   "cell_type": "markdown",
   "metadata": {},
   "source": [
    "<span style=\"color: orange\">All the performance data is stored into Reports/perf_data_structure.txt</span>"
   ]
  }
 ],
 "metadata": {
  "language_info": {
   "name": "python"
  },
  "orig_nbformat": 4
 },
 "nbformat": 4,
 "nbformat_minor": 2
}
